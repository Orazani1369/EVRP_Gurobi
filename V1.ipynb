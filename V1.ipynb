{
 "cells": [
  {
   "cell_type": "code",
   "execution_count": null,
   "metadata": {},
   "outputs": [],
   "source": [
    "from gurobipy import *\n",
    "import numpy as np\n",
    "import matplotlib.pyplot as plt"
   ]
  },
  {
   "cell_type": "code",
   "execution_count": null,
   "metadata": {},
   "outputs": [],
   "source": [
    "n=8 #No. customers\n",
    "f=3 #No. fuel stations\n",
    "nc=[i for i in range(1,n+1)]\n",
    "nf=[i for i in range(n+1,n+f+1)]\n",
    "v=[0]+nc+nf\n",
    "print(v)\n",
    "\n",
    "xc=[40, 30,58,48,40,25,  39,15,40] #X-cor of nodes\n",
    "yc=[50, 50,75,40,15,40,  26,70,60] #Y-cor of nodes\n",
    "r=[0,20,10,30,20,20,0,0,0] #Demand of nodes\n",
    "\n",
    "cap=80 #Vehicle load capacity\n",
    "ro=1 #consumption rate\n",
    "F=120 #Battrey capacity\n",
    "m=np.ceil(sum(r)/cap) #No of Vehicles\n",
    "\n",
    "\n",
    "\n",
    "#Plot nodes\n",
    "plt.scatter(xc[1:n+1],yc[1:n+1],c='b')\n",
    "plt.scatter(xc[n+1:],yc[n+1:],c='g')\n",
    "plt.scatter(xc[0],yc[0],c='r')"
   ]
  },
  {
   "cell_type": "code",
   "execution_count": null,
   "metadata": {},
   "outputs": [],
   "source": [
    "A=[(i,j) for i in v for j in v ] #Arcs\n",
    "\n",
    "c={(i,j):np.hypot(xc[i]-xc[j],yc[i]-yc[j]) for i,j in A} #Distance matrix\n",
    "\n"
   ]
  },
  {
   "cell_type": "code",
   "execution_count": null,
   "metadata": {},
   "outputs": [],
   "source": [
    "\n",
    "model=Model('EVRP')\n",
    "\n",
    "x = model.addVars(A,vtype=GRB.BINARY,name='x') #Equal 1 if vehicle goes from node i to node j\n",
    "w = model.addVars(A,vtype=GRB.CONTINUOUS,name='w') #Load on Arc i>j\n",
    "q = model.addVars(v,vtype=GRB.CONTINUOUS,name='q') #State  of charge when vehicle arrives at fuel station\n",
    "y = model.addVars(v,vtype=GRB.CONTINUOUS,name='y') #State  of charge when vehicle leave node"
   ]
  },
  {
   "cell_type": "code",
   "execution_count": null,
   "metadata": {},
   "outputs": [],
   "source": [
    "# model.setObjective(quicksum(c[i,j]*x[i,j] for i,j in A  if i!=j) , GRB.MINIMIZE)\n",
    "\n",
    "model.setObjective(quicksum(c[i,j]*x[i,j] for i,j in A  if i!=j) + quicksum(1000*x[0,i] for i in v) , GRB.MINIMIZE)\n",
    "\n",
    "model.addConstrs(quicksum(x[i,j] for j in v if j!=i)==1 for i in nc)\n",
    "\n",
    "model.addConstrs(quicksum(x[i,j] for j in v if j!=i)<=1 for i in nf )\n",
    "\n",
    "model.addConstrs(quicksum(x[j,i] for i in v if i!=j) -quicksum(x[i,j] for i in v if i!=j)==0 for j in v)\n",
    "\n",
    "model.addConstrs(quicksum(w[j,i] for j in v if i!=j) - quicksum(w[i,j] for j in v if i!=j) == r[i] for i in nc+nf)\n",
    "\n",
    "model.addConstrs(w[i,j]<=cap*x[i,j] for i,j in A if i!=j)\n",
    "\n",
    "model.addConstrs(ro*c[i,j]*x[i,j]-F*(1-x[i,j])<=y[i]-y[j] for i in v for j in nc)\n",
    "\n",
    "model.addConstrs(y[i]-y[j]<=ro*c[i,j]*x[i,j]+F*(1-x[i,j]) for i in v for j in nc)\n",
    "\n",
    "model.addConstrs(ro*c[i,j]*x[i,j]-F*(1-x[i,j])<=y[i]-q[j] for i in v for j in nf)\n",
    "\n",
    "model.addConstrs(y[i]-q[j]<=ro*c[i,j]*x[i,j]+F*(1-x[i,j]) for i in v for j in nf)\n",
    "\n",
    "model.addConstrs(y[i]>=ro*c[i,0]*x[i,0] for i in nc+nf)\n",
    "\n",
    "model.addConstrs(y[i]==F for i in [0]+nf)\n",
    "\n",
    "model.Params.TimeLimit = 300\n",
    "model.Params.MIPGap = 0\n",
    "model.Params.Threads = 2\n",
    "model.optimize()"
   ]
  },
  {
   "cell_type": "code",
   "execution_count": null,
   "metadata": {},
   "outputs": [],
   "source": [
    "print(\"Status: \", str(model.Status))\n",
    "print(\"Objective Value: \", str(np.round(model.ObjVal,2)))\n",
    "print(\"CPU Time: \", str(np.round(model.Runtime,2)))"
   ]
  },
  {
   "cell_type": "code",
   "execution_count": null,
   "metadata": {},
   "outputs": [],
   "source": [
    "K = 0\n",
    "\n",
    "for i in v:\n",
    "    if i!=0 and x[0,i].x>0.9:\n",
    "        K+=1\n",
    "K"
   ]
  },
  {
   "cell_type": "code",
   "execution_count": null,
   "metadata": {},
   "outputs": [],
   "source": [
    "routes=[]\n",
    "\n",
    "\n",
    "for i in v:\n",
    "    if i!=0 and x[0,i].x>0.9:\n",
    "        aux=[0,i]\n",
    "        while i!=0:\n",
    "            j=i\n",
    "            for h in v:\n",
    "                if j!=h and x[j,h].x>0.9:\n",
    "                    aux.append(h)\n",
    "                    i=h\n",
    "        routes.append(aux)\n",
    "\n",
    "print(routes)\n"
   ]
  },
  {
   "cell_type": "code",
   "execution_count": null,
   "metadata": {},
   "outputs": [],
   "source": [
    "plt.scatter(xc[1:n+1],yc[1:n+1],c='b')\n",
    "plt.scatter(xc[n+1:],yc[n+1:],c='g')\n",
    "plt.scatter(xc[0],yc[0],c='r')\n",
    "for i in nc:\n",
    "    plt.text(xc[i],yc[i]+3,\"C\"+format(i))\n",
    "    \n",
    "for i in nf:\n",
    "    plt.text(xc[i],yc[i]+3,\"F\"+format(i))\n",
    "\n",
    "\n",
    "for k in range(0,len(routes)):\n",
    "    for i in range(1,len(routes[k])):\n",
    "        plt.annotate(s='',xy=(xc[routes[k][i]],yc[routes[k][i]]),xytext=(xc[routes[k][i-1]],yc[routes[k][i-1]]), arrowprops=dict(arrowstyle='->'))\n",
    "        # plt.annotate(s='',xy=(xc[j],yc[j]),xytext=(xc[i],yc[i]), arrowprops=dict(arrowstyle='->'))"
   ]
  }
 ],
 "metadata": {
  "interpreter": {
   "hash": "ab6dcc629ef0122dd0698085b0fa7815ae85960e44c34f51c8aba6d65ba25ce5"
  },
  "kernelspec": {
   "display_name": "Python 3.9.7 ('base')",
   "language": "python",
   "name": "python3"
  },
  "language_info": {
   "codemirror_mode": {
    "name": "ipython",
    "version": 3
   },
   "file_extension": ".py",
   "mimetype": "text/x-python",
   "name": "python",
   "nbconvert_exporter": "python",
   "pygments_lexer": "ipython3",
   "version": "3.9.7"
  },
  "orig_nbformat": 4
 },
 "nbformat": 4,
 "nbformat_minor": 2
}
